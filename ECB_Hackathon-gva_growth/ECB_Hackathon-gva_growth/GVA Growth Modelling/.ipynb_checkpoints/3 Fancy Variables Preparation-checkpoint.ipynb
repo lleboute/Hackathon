{
 "cells": [
  {
   "cell_type": "markdown",
   "id": "75467884",
   "metadata": {},
   "source": [
    "# Fancy Variables"
   ]
  },
  {
   "cell_type": "code",
   "execution_count": 1,
   "id": "a4261800",
   "metadata": {},
   "outputs": [
    {
     "data": {
      "text/html": [
       "<style>.container { width:80% !important; }</style>"
      ],
      "text/plain": [
       "<IPython.core.display.HTML object>"
      ]
     },
     "metadata": {},
     "output_type": "display_data"
    }
   ],
   "source": [
    "# Adjust Notebook Display\n",
    "from IPython.display import display, HTML\n",
    "display(HTML(\"<style>.container { width:80% !important; }</style>\"))"
   ]
  },
  {
   "cell_type": "code",
   "execution_count": 2,
   "id": "8a1f2a1f",
   "metadata": {},
   "outputs": [],
   "source": [
    "# Import Libraries\n",
    "import geopandas\n",
    "import geopandas as gpd\n",
    "from sklearn.neighbors import BallTree\n",
    "import numpy as np\n",
    "from shapely.geometry import Point\n",
    "from scipy.spatial import cKDTree\n",
    "import pandas as pd\n",
    "from shapely.ops import nearest_points\n",
    "from shapely.geometry import Point\n",
    "import pandas as pd\n",
    "import math\n",
    "import ast\n",
    "import zipfile\n",
    "import os"
   ]
  },
  {
   "cell_type": "markdown",
   "id": "515bc402",
   "metadata": {},
   "source": [
    "## Neighbours"
   ]
  },
  {
   "cell_type": "code",
   "execution_count": 3,
   "id": "e986059d",
   "metadata": {},
   "outputs": [],
   "source": [
    "# Load Shape Files Data\n",
    "# source: https://ec.europa.eu/eurostat/web/gisco/geodata/reference-data/administrative-units-statistical-units/nuts#nuts21\n",
    "with zipfile.ZipFile('NUTS_RG_20M_2021_3035.shp.zip', 'r') as zip_ref:\n",
    "    zip_ref.extractall()"
   ]
  },
  {
   "cell_type": "code",
   "execution_count": 4,
   "id": "e256707c",
   "metadata": {},
   "outputs": [],
   "source": [
    "# Get Geometric Dataset\n",
    "\n",
    "gdf = geopandas.read_file('NUTS_RG_20M_2021_3035.shp')\n",
    "gdf['centroid'] = gdf['geometry'].centroid\n",
    "\n",
    "gdf_centroids = gdf.copy()\n",
    "gdf_centroids['geometry'] = gdf['geometry'].centroid\n",
    "\n",
    "centroids_sindex = gdf_centroids.sindex\n",
    "\n",
    "gdf = gdf[gdf['LEVL_CODE']==3]"
   ]
  },
  {
   "cell_type": "code",
   "execution_count": 5,
   "id": "81a55bb9",
   "metadata": {},
   "outputs": [],
   "source": [
    "# Add NEIGHBORS column\n",
    "\n",
    "gdf[\"NEIGHBORS\"] = None  \n",
    "for index, country in gdf.iterrows():   \n",
    "    # get 'not disjoint' countries\n",
    "    neighbors = gdf[~gdf.geometry.disjoint(country.geometry)].NUTS_ID.tolist()\n",
    "\n",
    "    # remove own name of the country from the list\n",
    "    neighbors = [ name for name in neighbors if country.NUTS_ID != name ]\n",
    "\n",
    "    # add names of neighbors as NEIGHBORS value\n",
    "    gdf.at[index, \"NEIGHBORS\"] = \", \".join(neighbors)\n",
    "\n",
    "gdf[\"NEIGHBORS\"] = gdf['NEIGHBORS'].str.split(', ')"
   ]
  },
  {
   "cell_type": "code",
   "execution_count": 6,
   "id": "bef1933c",
   "metadata": {},
   "outputs": [
    {
     "name": "stdout",
     "output_type": "stream",
     "text": [
      "<class 'pandas.core.frame.DataFrame'>\n",
      "Int64Index: 34608 entries, 0 to 34652\n",
      "Data columns (total 36 columns):\n",
      " #   Column            Non-Null Count  Dtype  \n",
      "---  ------            --------------  -----  \n",
      " 0   NUTS_ID           34608 non-null  object \n",
      " 1   year              34608 non-null  int64  \n",
      " 2   MaxTemp_std       30100 non-null  float64\n",
      " 3   MaxTemp_mean      30100 non-null  float64\n",
      " 4   MaxTemp_max       30100 non-null  float64\n",
      " 5   MaxTemp_min       30100 non-null  float64\n",
      " 6   MaxTemp_lta       30100 non-null  float64\n",
      " 7   spi01_std         33242 non-null  float64\n",
      " 8   spi01_mean        33242 non-null  float64\n",
      " 9   spi01_max         33242 non-null  float64\n",
      " 10  spi01_min         33242 non-null  float64\n",
      " 11  spi12_std         31731 non-null  float64\n",
      " 12  spi12_mean        31731 non-null  float64\n",
      " 13  spi12_max         31731 non-null  float64\n",
      " 14  spi12_min         31731 non-null  float64\n",
      " 15  spa01_lta         33242 non-null  float64\n",
      " 16  spa12_lta         33242 non-null  float64\n",
      " 17  sma_std           32912 non-null  float64\n",
      " 18  sma_mean          32912 non-null  float64\n",
      " 19  sma_max           32912 non-null  float64\n",
      " 20  sma_min           32912 non-null  float64\n",
      " 21  sma_count         32912 non-null  float64\n",
      " 22  sma_lta           32912 non-null  float64\n",
      " 23  lfi_std           28138 non-null  float64\n",
      " 24  lfi_mean          28138 non-null  float64\n",
      " 25  lfi_max           28138 non-null  float64\n",
      " 26  lfi_lta           28138 non-null  float64\n",
      " 27  hcwi_std          14952 non-null  float64\n",
      " 28  hcwi_mean         23773 non-null  float64\n",
      " 29  hcwi_max          23773 non-null  float64\n",
      " 30  hcwi_lta          23773 non-null  float64\n",
      " 31  fapar_std         15895 non-null  float64\n",
      " 32  fapar_mean        15895 non-null  float64\n",
      " 33  fapar_min         15895 non-null  float64\n",
      " 34  fapar_low_months  15895 non-null  float64\n",
      " 35  fapar_lta         15895 non-null  float64\n",
      "dtypes: float64(34), int64(1), object(1)\n",
      "memory usage: 9.8+ MB\n"
     ]
    }
   ],
   "source": [
    "# Load Aggregated Climate Data\n",
    "climate_midas = pd.read_csv('climate_midas_variables.csv')\n",
    "climate_midas = climate_midas[climate_midas['NUTS_ID'].str.len() == 5]\n",
    "\n",
    "climate_aggregated = pd.read_csv('climate_aggregated_variables.csv')\n",
    "climate_aggregated = climate_aggregated[climate_aggregated['NUTS_ID'].str.len() == 5]\n",
    "climate_aggregated.info()"
   ]
  },
  {
   "cell_type": "code",
   "execution_count": 7,
   "id": "b6308b41",
   "metadata": {},
   "outputs": [],
   "source": [
    "# Set Functions for Variable Creation\n",
    "\n",
    "def add_year(lst, year):\n",
    "    return [f'{item}_{year}' for item in lst]\n",
    "\n",
    "def NN(df):\n",
    "    \n",
    "    df = df.merge(gdf[['NEIGHBORS', 'NUTS_ID']], on = ['NUTS_ID'], how = 'left')\n",
    "    \n",
    "    df['year'] = df['year'].astype(str)\n",
    "    \n",
    "    # Year-NUTS identifier\n",
    "    df['ID'] = df['NUTS_ID']+'_'+df['year']\n",
    "    \n",
    "    # Apply the function to the DataFrame\n",
    "    df['NEIGHBORS_year'] = df.apply(lambda row: add_year(row['NEIGHBORS'], row['year']), axis=1)\n",
    "\n",
    "    # Focus on neigbouring region avg\n",
    "    def neighbors_agg(row):\n",
    "        neighbor_list = row['NEIGHBORS_year']  \n",
    "\n",
    "        if  (neighbor_list is not np.nan) :\n",
    "            #neighbor_list = ast.literal_eval(neighbor_list)\n",
    "            res = df[(df['ID'].isin(neighbor_list))][var].mean()\n",
    "            return res\n",
    "\n",
    "    for var in ['spi01_mean', 'spi12_mean', 'lfi_mean' , 'hcwi_mean']:\n",
    "        df['NN_'+var] = df.apply(neighbors_agg, axis=1)\n",
    "        \n",
    "    df.drop(['NEIGHBORS', 'ID', 'NEIGHBORS_year'], axis=1, inplace=True)\n",
    "\n",
    "    return df"
   ]
  },
  {
   "cell_type": "code",
   "execution_count": 8,
   "id": "b1691f99",
   "metadata": {
    "scrolled": false
   },
   "outputs": [
    {
     "name": "stdout",
     "output_type": "stream",
     "text": [
      "<class 'pandas.core.frame.DataFrame'>\n",
      "Int64Index: 34608 entries, 0 to 34607\n",
      "Data columns (total 40 columns):\n",
      " #   Column            Non-Null Count  Dtype  \n",
      "---  ------            --------------  -----  \n",
      " 0   NUTS_ID           34608 non-null  object \n",
      " 1   year              34608 non-null  object \n",
      " 2   MaxTemp_std       30100 non-null  float64\n",
      " 3   MaxTemp_mean      30100 non-null  float64\n",
      " 4   MaxTemp_max       30100 non-null  float64\n",
      " 5   MaxTemp_min       30100 non-null  float64\n",
      " 6   MaxTemp_lta       30100 non-null  float64\n",
      " 7   spi01_std         33242 non-null  float64\n",
      " 8   spi01_mean        33242 non-null  float64\n",
      " 9   spi01_max         33242 non-null  float64\n",
      " 10  spi01_min         33242 non-null  float64\n",
      " 11  spi12_std         31731 non-null  float64\n",
      " 12  spi12_mean        31731 non-null  float64\n",
      " 13  spi12_max         31731 non-null  float64\n",
      " 14  spi12_min         31731 non-null  float64\n",
      " 15  spa01_lta         33242 non-null  float64\n",
      " 16  spa12_lta         33242 non-null  float64\n",
      " 17  sma_std           32912 non-null  float64\n",
      " 18  sma_mean          32912 non-null  float64\n",
      " 19  sma_max           32912 non-null  float64\n",
      " 20  sma_min           32912 non-null  float64\n",
      " 21  sma_count         32912 non-null  float64\n",
      " 22  sma_lta           32912 non-null  float64\n",
      " 23  lfi_std           28138 non-null  float64\n",
      " 24  lfi_mean          28138 non-null  float64\n",
      " 25  lfi_max           28138 non-null  float64\n",
      " 26  lfi_lta           28138 non-null  float64\n",
      " 27  hcwi_std          14952 non-null  float64\n",
      " 28  hcwi_mean         23773 non-null  float64\n",
      " 29  hcwi_max          23773 non-null  float64\n",
      " 30  hcwi_lta          23773 non-null  float64\n",
      " 31  fapar_std         15895 non-null  float64\n",
      " 32  fapar_mean        15895 non-null  float64\n",
      " 33  fapar_min         15895 non-null  float64\n",
      " 34  fapar_low_months  15895 non-null  float64\n",
      " 35  fapar_lta         15895 non-null  float64\n",
      " 36  NN_spi01_mean     32384 non-null  float64\n",
      " 37  NN_spi12_mean     30912 non-null  float64\n",
      " 38  NN_lfi_mean       31768 non-null  float64\n",
      " 39  NN_hcwi_mean      29426 non-null  float64\n",
      "dtypes: float64(38), object(2)\n",
      "memory usage: 10.8+ MB\n"
     ]
    }
   ],
   "source": [
    "# Apply Neighbours Function to Aggregated Data\n",
    "climate_aggregated = NN(climate_aggregated)\n",
    "climate_aggregated.info()"
   ]
  },
  {
   "cell_type": "code",
   "execution_count": 9,
   "id": "11cef6e8",
   "metadata": {},
   "outputs": [
    {
     "name": "stdout",
     "output_type": "stream",
     "text": [
      "<class 'pandas.core.frame.DataFrame'>\n",
      "Int64Index: 34608 entries, 0 to 34607\n",
      "Data columns (total 97 columns):\n",
      " #   Column         Non-Null Count  Dtype  \n",
      "---  ------         --------------  -----  \n",
      " 0   NUTS_ID        34608 non-null  object \n",
      " 1   year           34608 non-null  object \n",
      " 2   MaxTemp [1]    30087 non-null  float64\n",
      " 3   MaxTemp [2]    30087 non-null  float64\n",
      " 4   MaxTemp [3]    30090 non-null  float64\n",
      " 5   MaxTemp [4]    30095 non-null  float64\n",
      " 6   MaxTemp [5]    30093 non-null  float64\n",
      " 7   MaxTemp [6]    30091 non-null  float64\n",
      " 8   MaxTemp [7]    30094 non-null  float64\n",
      " 9   MaxTemp [8]    30095 non-null  float64\n",
      " 10  MaxTemp [9]    30079 non-null  float64\n",
      " 11  MaxTemp [10]   30093 non-null  float64\n",
      " 12  MaxTemp [11]   28778 non-null  float64\n",
      " 13  MaxTemp [12]   28778 non-null  float64\n",
      " 14  MaxTemp_lta    30100 non-null  float64\n",
      " 15  SPI01 [1]      33242 non-null  float64\n",
      " 16  SPI01 [2]      33242 non-null  float64\n",
      " 17  SPI01 [3]      33242 non-null  float64\n",
      " 18  SPI01 [4]      33242 non-null  float64\n",
      " 19  SPI01 [5]      33242 non-null  float64\n",
      " 20  SPI01 [6]      33241 non-null  float64\n",
      " 21  SPI01 [7]      33238 non-null  float64\n",
      " 22  SPI01 [8]      33237 non-null  float64\n",
      " 23  SPI01 [9]      33242 non-null  float64\n",
      " 24  SPI01 [10]     33242 non-null  float64\n",
      " 25  SPI01 [11]     33241 non-null  float64\n",
      " 26  SPI01 [12]     33242 non-null  float64\n",
      " 27  SPI12 [1]      31731 non-null  float64\n",
      " 28  SPI12 [2]      31731 non-null  float64\n",
      " 29  SPI12 [3]      31731 non-null  float64\n",
      " 30  SPI12 [4]      31731 non-null  float64\n",
      " 31  SPI12 [5]      31731 non-null  float64\n",
      " 32  SPI12 [6]      31731 non-null  float64\n",
      " 33  SPI12 [7]      31731 non-null  float64\n",
      " 34  SPI12 [8]      31731 non-null  float64\n",
      " 35  SPI12 [9]      31731 non-null  float64\n",
      " 36  SPI12 [10]     31731 non-null  float64\n",
      " 37  SPI12 [11]     31731 non-null  float64\n",
      " 38  SPI12 [12]     31731 non-null  float64\n",
      " 39  spa01_lta      33242 non-null  float64\n",
      " 40  spa12_lta      33242 non-null  float64\n",
      " 41  SMA [1]        32912 non-null  float64\n",
      " 42  SMA [2]        32912 non-null  float64\n",
      " 43  SMA [3]        32912 non-null  float64\n",
      " 44  SMA [4]        32912 non-null  float64\n",
      " 45  SMA [5]        32912 non-null  float64\n",
      " 46  SMA [6]        32912 non-null  float64\n",
      " 47  SMA [7]        32912 non-null  float64\n",
      " 48  SMA [8]        32912 non-null  float64\n",
      " 49  SMA [9]        32912 non-null  float64\n",
      " 50  SMA [10]       32912 non-null  float64\n",
      " 51  SMA [11]       32912 non-null  float64\n",
      " 52  SMA [12]       32912 non-null  float64\n",
      " 53  sma_lta        32912 non-null  float64\n",
      " 54  LFI [1]        28138 non-null  float64\n",
      " 55  LFI [2]        28138 non-null  float64\n",
      " 56  LFI [3]        28138 non-null  float64\n",
      " 57  LFI [4]        28138 non-null  float64\n",
      " 58  LFI [5]        28138 non-null  float64\n",
      " 59  LFI [6]        28138 non-null  float64\n",
      " 60  LFI [7]        28138 non-null  float64\n",
      " 61  LFI [8]        28138 non-null  float64\n",
      " 62  LFI [9]        28138 non-null  float64\n",
      " 63  LFI [10]       28138 non-null  float64\n",
      " 64  LFI [11]       28138 non-null  float64\n",
      " 65  LFI [12]       28138 non-null  float64\n",
      " 66  lfi_lta        28138 non-null  float64\n",
      " 67  HCWI [1]       5523 non-null   float64\n",
      " 68  HCWI [2]       4244 non-null   float64\n",
      " 69  HCWI [3]       1426 non-null   float64\n",
      " 70  HCWI [4]       3436 non-null   float64\n",
      " 71  HCWI [5]       4765 non-null   float64\n",
      " 72  HCWI [6]       5241 non-null   float64\n",
      " 73  HCWI [7]       4832 non-null   float64\n",
      " 74  HCWI [8]       5013 non-null   float64\n",
      " 75  HCWI [9]       3091 non-null   float64\n",
      " 76  HCWI [10]      3881 non-null   float64\n",
      " 77  HCWI [11]      4449 non-null   float64\n",
      " 78  HCWI [12]      4368 non-null   float64\n",
      " 79  hcwi_lta       23773 non-null  float64\n",
      " 80  FAPAR [1]      11846 non-null  float64\n",
      " 81  FAPAR [2]      15668 non-null  float64\n",
      " 82  FAPAR [3]      15869 non-null  float64\n",
      " 83  FAPAR [4]      15873 non-null  float64\n",
      " 84  FAPAR [5]      15849 non-null  float64\n",
      " 85  FAPAR [6]      15851 non-null  float64\n",
      " 86  FAPAR [7]      15857 non-null  float64\n",
      " 87  FAPAR [8]      15867 non-null  float64\n",
      " 88  FAPAR [9]      15884 non-null  float64\n",
      " 89  FAPAR [10]     15840 non-null  float64\n",
      " 90  FAPAR [11]     14487 non-null  float64\n",
      " 91  FAPAR [12]     7175 non-null   float64\n",
      " 92  fapar_lta      15895 non-null  float64\n",
      " 93  NN_spi01_mean  32384 non-null  float64\n",
      " 94  NN_spi12_mean  30912 non-null  float64\n",
      " 95  NN_lfi_mean    31768 non-null  float64\n",
      " 96  NN_hcwi_mean   29426 non-null  float64\n",
      "dtypes: float64(95), object(2)\n",
      "memory usage: 25.9+ MB\n"
     ]
    }
   ],
   "source": [
    "# Add Aggregated Neighbours Data to MIDAS set\n",
    "\n",
    "climate_midas['year'] = climate_midas['year'].astype(str)\n",
    "\n",
    "nn_aggregated = climate_aggregated[['NUTS_ID', 'year', 'NN_spi01_mean', 'NN_spi12_mean', 'NN_lfi_mean', 'NN_hcwi_mean']]\n",
    "climate_midas = pd.merge(climate_midas, nn_aggregated, on=['year', 'NUTS_ID'], how='outer')\n",
    "climate_midas.info()"
   ]
  },
  {
   "cell_type": "markdown",
   "id": "50603df6",
   "metadata": {},
   "source": [
    "## Compunding Effects"
   ]
  },
  {
   "cell_type": "code",
   "execution_count": 10,
   "id": "ef214dcc",
   "metadata": {},
   "outputs": [
    {
     "name": "stdout",
     "output_type": "stream",
     "text": [
      "<class 'pandas.core.frame.DataFrame'>\n",
      "Int64Index: 50269 entries, 0 to 50268\n",
      "Data columns (total 4 columns):\n",
      " #   Column   Non-Null Count  Dtype  \n",
      "---  ------   --------------  -----  \n",
      " 0   NUTS_ID  50269 non-null  object \n",
      " 1   year     50269 non-null  int64  \n",
      " 2   month    50269 non-null  int64  \n",
      " 3   hcwi     50269 non-null  float64\n",
      "dtypes: float64(1), int64(2), object(1)\n",
      "memory usage: 1.9+ MB\n"
     ]
    }
   ],
   "source": [
    "# Get HCWI Raw Data\n",
    "\n",
    "hcwi = pd.read_csv('C:/Users/spiterisr/OneDrive - centralbankmalta.org/Working Papers/Beat the Heat Hackathon/Data/Climate Data/Heat Intensity/intensity_2001-2022.csv')\n",
    "\n",
    "hcwi['date'] = pd.to_datetime(hcwi['date'])\n",
    "hcwi['month'] = hcwi['date'].dt.month\n",
    "\n",
    "dfs = []\n",
    "for i in hcwi['year'].unique():\n",
    "    for j in hcwi['month'].unique():\n",
    "        df = pd.DataFrame()\n",
    "        df['NUTS_ID'] = hcwi['NUTS_ID'].unique()\n",
    "        df['year'] = i\n",
    "        df['month'] = j\n",
    "        dfs.append(df)\n",
    "hcwi_base = pd.concat(dfs)\n",
    "\n",
    "hcwi = pd.merge(hcwi_base, hcwi.groupby(['NUTS_ID', 'year', 'month']).agg({'median':'median'}), on=['NUTS_ID', 'year', 'month'])\n",
    "hcwi.rename(columns={'median': 'hcwi'}, inplace=True)\n",
    "hcwi.info()"
   ]
  },
  {
   "cell_type": "code",
   "execution_count": 11,
   "id": "de1f5eba",
   "metadata": {},
   "outputs": [
    {
     "name": "stdout",
     "output_type": "stream",
     "text": [
      "<class 'pandas.core.frame.DataFrame'>\n",
      "Int64Index: 398904 entries, 0 to 398903\n",
      "Data columns (total 5 columns):\n",
      " #   Column   Non-Null Count   Dtype  \n",
      "---  ------   --------------   -----  \n",
      " 0   NUTS_ID  398904 non-null  object \n",
      " 1   year     398904 non-null  int64  \n",
      " 2   month    398904 non-null  int64  \n",
      " 3   spi01    398893 non-null  float64\n",
      " 4   spi12    380772 non-null  float64\n",
      "dtypes: float64(2), int64(2), object(1)\n",
      "memory usage: 18.3+ MB\n"
     ]
    }
   ],
   "source": [
    "# Get SPI Raw Data\n",
    "\n",
    "location = \"C:/Users/spiterisr/OneDrive - centralbankmalta.org/Working Papers/Beat the Heat Hackathon/Data/Climate Data/SPI/\"\n",
    "all_files = os.listdir(location)\n",
    "\n",
    "all_dfs = []\n",
    "\n",
    "for file in all_files:\n",
    "    if file.endswith(\"csv\"):\n",
    "        file_name = file.split(\"/\")[-1]\n",
    "        spa_type = file_name.split(\"_\")[0]\n",
    "        year = file_name.split(\"_\")[-1].split(\".\")[0]\n",
    "        df_a1 = pd.read_csv(location+file)\n",
    "        df_a1.rename(columns=lambda x: x.strip(), inplace=True)\n",
    "        df_a1['year'] = pd.to_datetime(df_a1['TIMESTAMP']).dt.year\n",
    "        df_a1.rename(columns={'MEDIAN': f'MEDIAN_{spa_type}'}, inplace=True)\n",
    "        all_dfs.append(df_a1)\n",
    "    \n",
    "spi = pd.concat(all_dfs, ignore_index=True)\n",
    "\n",
    "spi['TIMESTAMP'] = pd.to_datetime(spi['TIMESTAMP'])\n",
    "spi['month'] = spi['TIMESTAMP'].dt.month\n",
    "\n",
    "dfs = []\n",
    "for i in spi['year'].unique():\n",
    "    for j in spi['month'].unique():\n",
    "        df = pd.DataFrame()\n",
    "        df['NUTS_ID'] = spi['NUTS_ID'].unique()\n",
    "        df['year'] = i\n",
    "        df['month'] = j\n",
    "        dfs.append(df)\n",
    "spi_base = pd.concat(dfs)\n",
    "\n",
    "spi = pd.merge(spi_base, spi.groupby(['NUTS_ID', 'year', 'month']).agg({'MEDIAN_spa01':'median', 'MEDIAN_spa12':'median'}), on=['NUTS_ID', 'year', 'month'])\n",
    "spi.rename(columns={'MEDIAN_spa01': 'spi01', 'MEDIAN_spa12': 'spi12'}, inplace=True)\n",
    "spi.info()"
   ]
  },
  {
   "cell_type": "code",
   "execution_count": 12,
   "id": "6f286912",
   "metadata": {},
   "outputs": [
    {
     "name": "stdout",
     "output_type": "stream",
     "text": [
      "<class 'pandas.core.frame.DataFrame'>\n",
      "Int64Index: 399097 entries, 0 to 399096\n",
      "Data columns (total 6 columns):\n",
      " #   Column   Non-Null Count   Dtype  \n",
      "---  ------   --------------   -----  \n",
      " 0   NUTS_ID  399097 non-null  object \n",
      " 1   year     399097 non-null  int64  \n",
      " 2   month    399097 non-null  int64  \n",
      " 3   spi01    399097 non-null  float64\n",
      " 4   spi12    399097 non-null  float64\n",
      " 5   hcwi     399097 non-null  float64\n",
      "dtypes: float64(3), int64(2), object(1)\n",
      "memory usage: 21.3+ MB\n"
     ]
    }
   ],
   "source": [
    "# Merge HCWI and SPI Data\n",
    "compounding = pd.merge(spi, hcwi, on=['NUTS_ID', 'year', 'month'], how = 'outer').fillna(0)\n",
    "compounding.info()"
   ]
  },
  {
   "cell_type": "code",
   "execution_count": 13,
   "id": "231645a9",
   "metadata": {},
   "outputs": [
    {
     "data": {
      "text/html": [
       "<div>\n",
       "<style scoped>\n",
       "    .dataframe tbody tr th:only-of-type {\n",
       "        vertical-align: middle;\n",
       "    }\n",
       "\n",
       "    .dataframe tbody tr th {\n",
       "        vertical-align: top;\n",
       "    }\n",
       "\n",
       "    .dataframe thead th {\n",
       "        text-align: right;\n",
       "    }\n",
       "</style>\n",
       "<table border=\"1\" class=\"dataframe\">\n",
       "  <thead>\n",
       "    <tr style=\"text-align: right;\">\n",
       "      <th></th>\n",
       "      <th>year</th>\n",
       "      <th>month</th>\n",
       "      <th>spi01</th>\n",
       "      <th>spi12</th>\n",
       "      <th>hcwi</th>\n",
       "    </tr>\n",
       "  </thead>\n",
       "  <tbody>\n",
       "    <tr>\n",
       "      <th>count</th>\n",
       "      <td>399097.000000</td>\n",
       "      <td>399097.000000</td>\n",
       "      <td>399097.000000</td>\n",
       "      <td>399097.000000</td>\n",
       "      <td>399097.000000</td>\n",
       "    </tr>\n",
       "    <tr>\n",
       "      <th>mean</th>\n",
       "      <td>2011.499678</td>\n",
       "      <td>6.500074</td>\n",
       "      <td>0.010287</td>\n",
       "      <td>0.053140</td>\n",
       "      <td>0.247964</td>\n",
       "    </tr>\n",
       "    <tr>\n",
       "      <th>std</th>\n",
       "      <td>6.344207</td>\n",
       "      <td>3.451982</td>\n",
       "      <td>0.978922</td>\n",
       "      <td>0.940484</td>\n",
       "      <td>0.755864</td>\n",
       "    </tr>\n",
       "    <tr>\n",
       "      <th>min</th>\n",
       "      <td>2001.000000</td>\n",
       "      <td>1.000000</td>\n",
       "      <td>-4.891500</td>\n",
       "      <td>-3.310000</td>\n",
       "      <td>0.000000</td>\n",
       "    </tr>\n",
       "    <tr>\n",
       "      <th>25%</th>\n",
       "      <td>2006.000000</td>\n",
       "      <td>4.000000</td>\n",
       "      <td>-0.617500</td>\n",
       "      <td>-0.552000</td>\n",
       "      <td>0.000000</td>\n",
       "    </tr>\n",
       "    <tr>\n",
       "      <th>50%</th>\n",
       "      <td>2011.000000</td>\n",
       "      <td>7.000000</td>\n",
       "      <td>0.055000</td>\n",
       "      <td>0.006000</td>\n",
       "      <td>0.000000</td>\n",
       "    </tr>\n",
       "    <tr>\n",
       "      <th>75%</th>\n",
       "      <td>2017.000000</td>\n",
       "      <td>10.000000</td>\n",
       "      <td>0.693000</td>\n",
       "      <td>0.676000</td>\n",
       "      <td>0.000000</td>\n",
       "    </tr>\n",
       "    <tr>\n",
       "      <th>max</th>\n",
       "      <td>2022.000000</td>\n",
       "      <td>12.000000</td>\n",
       "      <td>4.254000</td>\n",
       "      <td>3.342000</td>\n",
       "      <td>8.706688</td>\n",
       "    </tr>\n",
       "  </tbody>\n",
       "</table>\n",
       "</div>"
      ],
      "text/plain": [
       "                year          month          spi01          spi12  \\\n",
       "count  399097.000000  399097.000000  399097.000000  399097.000000   \n",
       "mean     2011.499678       6.500074       0.010287       0.053140   \n",
       "std         6.344207       3.451982       0.978922       0.940484   \n",
       "min      2001.000000       1.000000      -4.891500      -3.310000   \n",
       "25%      2006.000000       4.000000      -0.617500      -0.552000   \n",
       "50%      2011.000000       7.000000       0.055000       0.006000   \n",
       "75%      2017.000000      10.000000       0.693000       0.676000   \n",
       "max      2022.000000      12.000000       4.254000       3.342000   \n",
       "\n",
       "                hcwi  \n",
       "count  399097.000000  \n",
       "mean        0.247964  \n",
       "std         0.755864  \n",
       "min         0.000000  \n",
       "25%         0.000000  \n",
       "50%         0.000000  \n",
       "75%         0.000000  \n",
       "max         8.706688  "
      ]
     },
     "execution_count": 13,
     "metadata": {},
     "output_type": "execute_result"
    }
   ],
   "source": [
    "# Quick Data Check\n",
    "compounding.describe()"
   ]
  },
  {
   "cell_type": "code",
   "execution_count": 14,
   "id": "51cfbded",
   "metadata": {},
   "outputs": [
    {
     "name": "stdout",
     "output_type": "stream",
     "text": [
      "<class 'pandas.core.frame.DataFrame'>\n",
      "Int64Index: 399097 entries, 0 to 399096\n",
      "Data columns (total 8 columns):\n",
      " #   Column                 Non-Null Count   Dtype  \n",
      "---  ------                 --------------   -----  \n",
      " 0   NUTS_ID                399097 non-null  object \n",
      " 1   year                   399097 non-null  int64  \n",
      " 2   month                  399097 non-null  int64  \n",
      " 3   spi01                  399097 non-null  float64\n",
      " 4   spi12                  399097 non-null  float64\n",
      " 5   hcwi                   399097 non-null  float64\n",
      " 6   HeatWave_ShortDrought  399097 non-null  float64\n",
      " 7   HeatWave_LongDrought   399097 non-null  float64\n",
      "dtypes: float64(5), int64(2), object(1)\n",
      "memory usage: 27.4+ MB\n"
     ]
    }
   ],
   "source": [
    "# Create Compounding Effects Variables\n",
    "compounding['HeatWave_ShortDrought'] = np.where(((compounding['hcwi'] > 0 ) & (compounding['spi01'] <= -1)), compounding['hcwi'] * compounding['spi01'].abs(), 0)\n",
    "compounding['HeatWave_LongDrought'] = np.where(((compounding['hcwi'] > 0 ) & (compounding['spi12'] <= -1)), compounding['hcwi'] * compounding['spi12'].abs(), 0)\n",
    "compounding.info()"
   ]
  },
  {
   "cell_type": "code",
   "execution_count": 15,
   "id": "48e007d7",
   "metadata": {},
   "outputs": [
    {
     "name": "stdout",
     "output_type": "stream",
     "text": [
      "Compounding Effects Short VS Long Term Correlation Check : 0.22628030649799374\n"
     ]
    }
   ],
   "source": [
    "# Check Correlation Between Variables\n",
    "print('Compounding Effects Short VS Long Term Correlation Check :', compounding['HeatWave_ShortDrought'].corr(compounding['HeatWave_LongDrought']))"
   ]
  },
  {
   "cell_type": "code",
   "execution_count": 16,
   "id": "67b6a589",
   "metadata": {},
   "outputs": [
    {
     "name": "stdout",
     "output_type": "stream",
     "text": [
      "<class 'pandas.core.frame.DataFrame'>\n",
      "Int64Index: 33298 entries, 0 to 33297\n",
      "Data columns (total 42 columns):\n",
      " #   Column                 Non-Null Count  Dtype  \n",
      "---  ------                 --------------  -----  \n",
      " 0   NUTS_ID                33298 non-null  object \n",
      " 1   year                   33298 non-null  object \n",
      " 2   MaxTemp_std            28791 non-null  float64\n",
      " 3   MaxTemp_mean           28791 non-null  float64\n",
      " 4   MaxTemp_max            28791 non-null  float64\n",
      " 5   MaxTemp_min            28791 non-null  float64\n",
      " 6   MaxTemp_lta            28791 non-null  float64\n",
      " 7   spi01_std              33242 non-null  float64\n",
      " 8   spi01_mean             33242 non-null  float64\n",
      " 9   spi01_max              33242 non-null  float64\n",
      " 10  spi01_min              33242 non-null  float64\n",
      " 11  spi12_std              31731 non-null  float64\n",
      " 12  spi12_mean             31731 non-null  float64\n",
      " 13  spi12_max              31731 non-null  float64\n",
      " 14  spi12_min              31731 non-null  float64\n",
      " 15  spa01_lta              33242 non-null  float64\n",
      " 16  spa12_lta              33242 non-null  float64\n",
      " 17  sma_std                32912 non-null  float64\n",
      " 18  sma_mean               32912 non-null  float64\n",
      " 19  sma_max                32912 non-null  float64\n",
      " 20  sma_min                32912 non-null  float64\n",
      " 21  sma_count              32912 non-null  float64\n",
      " 22  sma_lta                32912 non-null  float64\n",
      " 23  lfi_std                28138 non-null  float64\n",
      " 24  lfi_mean               28138 non-null  float64\n",
      " 25  lfi_max                28138 non-null  float64\n",
      " 26  lfi_lta                28138 non-null  float64\n",
      " 27  hcwi_std               14952 non-null  float64\n",
      " 28  hcwi_mean              23773 non-null  float64\n",
      " 29  hcwi_max               23773 non-null  float64\n",
      " 30  hcwi_lta               23773 non-null  float64\n",
      " 31  fapar_std              15885 non-null  float64\n",
      " 32  fapar_mean             15885 non-null  float64\n",
      " 33  fapar_min              15885 non-null  float64\n",
      " 34  fapar_low_months       15885 non-null  float64\n",
      " 35  fapar_lta              15885 non-null  float64\n",
      " 36  NN_spi01_mean          32384 non-null  float64\n",
      " 37  NN_spi12_mean          30912 non-null  float64\n",
      " 38  NN_lfi_mean            31768 non-null  float64\n",
      " 39  NN_hcwi_mean           29426 non-null  float64\n",
      " 40  HeatWave_ShortDrought  33298 non-null  float64\n",
      " 41  HeatWave_LongDrought   33298 non-null  float64\n",
      "dtypes: float64(40), object(2)\n",
      "memory usage: 10.9+ MB\n"
     ]
    }
   ],
   "source": [
    "# Add Variables to Aggregated Dataset\n",
    "\n",
    "compounding['year'] = compounding['year'].astype(str)\n",
    "\n",
    "additional_variable = compounding.groupby(['NUTS_ID', 'year']).agg({'HeatWave_ShortDrought':'median'})\n",
    "climate_aggregated = pd.merge(climate_aggregated, additional_variable ,on=['NUTS_ID', 'year'])\n",
    "\n",
    "additional_variable = compounding.groupby(['NUTS_ID', 'year']).agg({'HeatWave_LongDrought':'median'})\n",
    "climate_aggregated = pd.merge(climate_aggregated, additional_variable ,on=['NUTS_ID', 'year'])\n",
    "\n",
    "climate_aggregated.info()"
   ]
  },
  {
   "cell_type": "code",
   "execution_count": 17,
   "id": "bb3b7bed",
   "metadata": {},
   "outputs": [
    {
     "name": "stdout",
     "output_type": "stream",
     "text": [
      "<class 'pandas.core.frame.DataFrame'>\n",
      "Int64Index: 34608 entries, 0 to 34607\n",
      "Columns: 121 entries, NUTS_ID to HeatWave_LongDrought [12]\n",
      "dtypes: float64(119), object(2)\n",
      "memory usage: 32.2+ MB\n"
     ]
    }
   ],
   "source": [
    "# Add Variables to MIDAS Dataset\n",
    "\n",
    "counter = 1\n",
    "for i in compounding['month'].unique():\n",
    "    if counter == 1:\n",
    "        m_df = compounding[compounding['month'] == i]\n",
    "        m_df = m_df[['NUTS_ID', 'year', 'HeatWave_ShortDrought']]\n",
    "        m_df.rename(columns={'HeatWave_ShortDrought': 'HeatWave_ShortDrought ['+str(i)+']'}, inplace=True)\n",
    "    else:\n",
    "        m2_df = compounding[compounding['month'] == i]\n",
    "        m2_df = m2_df[['NUTS_ID', 'year', 'HeatWave_ShortDrought']]\n",
    "        m2_df.rename(columns={'HeatWave_ShortDrought': 'HeatWave_ShortDrought ['+str(i)+']'}, inplace=True)\n",
    "        m_df = pd.merge(m_df, m2_df, on=['NUTS_ID', 'year'], how='outer')\n",
    "    counter += 1\n",
    "    \n",
    "for i in compounding['month'].unique():\n",
    "    m2_df = compounding[compounding['month'] == i]\n",
    "    m2_df = m2_df[['NUTS_ID', 'year', 'HeatWave_LongDrought']]\n",
    "    m2_df.rename(columns={'HeatWave_LongDrought': 'HeatWave_LongDrought ['+str(i)+']'}, inplace=True)\n",
    "    m_df = pd.merge(m_df, m2_df, on=['NUTS_ID', 'year'], how='outer')\n",
    "\n",
    "compounding_midas = m_df.copy()\n",
    "climate_midas = pd.merge(climate_midas, compounding_midas, on=['NUTS_ID', 'year'], how='outer')\n",
    "climate_midas.info()"
   ]
  },
  {
   "cell_type": "markdown",
   "id": "3a158e42",
   "metadata": {},
   "source": [
    "## Heatwave and Drought Duration"
   ]
  },
  {
   "cell_type": "code",
   "execution_count": 18,
   "id": "207a2dde",
   "metadata": {},
   "outputs": [
    {
     "data": {
      "text/plain": [
       "\"\\n\\nHelp! I need somebody\\nHelp! Not just anybody\\nHelp! You know I need someone\\nHelp!\\n\\nWhen I was younger, so much younger than today\\nI never needed anybody's help in any way\\nBut now these days are gone and I'm not so self assured\\nNow I find I've changed my mind, I've opened up the doors\\n\\nHelp me if you can, I'm feeling down\\nAnd I do appreciate you being 'round\\nHelp me get my feet back on the ground\\nWon't you please, please help me?\\n\\nAnd now my life has changed in oh so many ways\\nMy independence seems to vanish in the haze\\nBut every now and then I feel so insecure\\nI know that I just need you like I've never done before\\n\\nHelp me if you can, I'm feeling down\\nAnd I do appreciate you being 'round\\nHelp me get my feet back on the ground\\nWon't you please, please help me?\\n\\nWhen I was younger, so much younger than today\\nI never needed anybody's help in any way\\nBut now these days are gone, I'm not so self assured\\nNow I find I've changed my mind, I've opened up the doors\\n\\nHelp me if you can, I'm feeling down\\nAnd I do appreciate you being 'round\\nHelp me get my feet back on the ground\\nWon't you please, please help me?\\n\\nHelp me, help me, oh\\n\\n\""
      ]
     },
     "execution_count": 18,
     "metadata": {},
     "output_type": "execute_result"
    }
   ],
   "source": [
    "\"\"\"\n",
    "\n",
    "Help! I need somebody\n",
    "Help! Not just anybody\n",
    "Help! You know I need someone\n",
    "Help!\n",
    "\n",
    "When I was younger, so much younger than today\n",
    "I never needed anybody's help in any way\n",
    "But now these days are gone and I'm not so self assured\n",
    "Now I find I've changed my mind, I've opened up the doors\n",
    "\n",
    "Help me if you can, I'm feeling down\n",
    "And I do appreciate you being 'round\n",
    "Help me get my feet back on the ground\n",
    "Won't you please, please help me?\n",
    "\n",
    "And now my life has changed in oh so many ways\n",
    "My independence seems to vanish in the haze\n",
    "But every now and then I feel so insecure\n",
    "I know that I just need you like I've never done before\n",
    "\n",
    "Help me if you can, I'm feeling down\n",
    "And I do appreciate you being 'round\n",
    "Help me get my feet back on the ground\n",
    "Won't you please, please help me?\n",
    "\n",
    "When I was younger, so much younger than today\n",
    "I never needed anybody's help in any way\n",
    "But now these days are gone, I'm not so self assured\n",
    "Now I find I've changed my mind, I've opened up the doors\n",
    "\n",
    "Help me if you can, I'm feeling down\n",
    "And I do appreciate you being 'round\n",
    "Help me get my feet back on the ground\n",
    "Won't you please, please help me?\n",
    "\n",
    "Help me, help me, oh\n",
    "\n",
    "\"\"\"\n"
   ]
  },
  {
   "cell_type": "markdown",
   "id": "8976a245",
   "metadata": {},
   "source": [
    "## Save Fancy Climate Data"
   ]
  },
  {
   "cell_type": "code",
   "execution_count": 19,
   "id": "52c0df08",
   "metadata": {},
   "outputs": [],
   "source": [
    "climate_aggregated.to_csv('climate_aggregated_variables.csv', index=False)\n",
    "climate_midas.to_csv('climate_midas_variables.csv', index=False)"
   ]
  },
  {
   "cell_type": "code",
   "execution_count": null,
   "id": "3316e22a",
   "metadata": {},
   "outputs": [],
   "source": []
  }
 ],
 "metadata": {
  "kernelspec": {
   "display_name": "Python 3 (ipykernel)",
   "language": "python",
   "name": "python3"
  },
  "language_info": {
   "codemirror_mode": {
    "name": "ipython",
    "version": 3
   },
   "file_extension": ".py",
   "mimetype": "text/x-python",
   "name": "python",
   "nbconvert_exporter": "python",
   "pygments_lexer": "ipython3",
   "version": "3.10.7"
  }
 },
 "nbformat": 4,
 "nbformat_minor": 5
}
